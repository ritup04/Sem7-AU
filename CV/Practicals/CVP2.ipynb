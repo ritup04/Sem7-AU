{
 "cells": [
  {
   "cell_type": "code",
   "execution_count": 1,
   "id": "89923033",
   "metadata": {},
   "outputs": [],
   "source": [
    "import cv2\n",
    "cv2.imread(\"/test.jpg\")"
   ]
  },
  {
   "cell_type": "code",
   "execution_count": 2,
   "id": "9f2b28d5",
   "metadata": {},
   "outputs": [
    {
     "ename": "ModuleNotFoundError",
     "evalue": "No module named 'google.colab'",
     "output_type": "error",
     "traceback": [
      "\u001b[31m---------------------------------------------------------------------------\u001b[39m",
      "\u001b[31mModuleNotFoundError\u001b[39m                       Traceback (most recent call last)",
      "\u001b[36mCell\u001b[39m\u001b[36m \u001b[39m\u001b[32mIn[2]\u001b[39m\u001b[32m, line 4\u001b[39m\n\u001b[32m      2\u001b[39m \u001b[38;5;28;01mimport\u001b[39;00m\u001b[38;5;250m \u001b[39m\u001b[34;01mnumpy\u001b[39;00m\u001b[38;5;250m \u001b[39m\u001b[38;5;28;01mas\u001b[39;00m\u001b[38;5;250m \u001b[39m\u001b[34;01mnp\u001b[39;00m\n\u001b[32m      3\u001b[39m \u001b[38;5;28;01mimport\u001b[39;00m\u001b[38;5;250m \u001b[39m\u001b[34;01mcv2\u001b[39;00m\n\u001b[32m----> \u001b[39m\u001b[32m4\u001b[39m \u001b[38;5;28;01mfrom\u001b[39;00m\u001b[38;5;250m \u001b[39m\u001b[34;01mgoogle\u001b[39;00m\u001b[34;01m.\u001b[39;00m\u001b[34;01mcolab\u001b[39;00m\u001b[34;01m.\u001b[39;00m\u001b[34;01mpatches\u001b[39;00m\u001b[38;5;250m \u001b[39m\u001b[38;5;28;01mimport\u001b[39;00m cv2_imshow\n\u001b[32m      6\u001b[39m img = cv2.imread(\u001b[33m\"\u001b[39m\u001b[33m/test.jpg\u001b[39m\u001b[33m\"\u001b[39m)\n\u001b[32m      7\u001b[39m rows, cols = img.shape[:\u001b[32m2\u001b[39m]\n",
      "\u001b[31mModuleNotFoundError\u001b[39m: No module named 'google.colab'"
     ]
    }
   ],
   "source": [
    "# Load the image\n",
    "import numpy as np\n",
    "import cv2\n",
    "from google.colab.patches import cv2_imshow\n",
    "\n",
    "img = cv2.imread(\"/test.jpg\")\n",
    "rows, cols = img.shape[:2]\n",
    "\n",
    "# Scaling\n",
    "scaled_img = cv2.resize(img, None, fx=0.5, fy=0.5)\n",
    "\n",
    "# Rotation\n",
    "M_rotate = cv2.getRotationMatrix2D((cols/2, rows/2), 90, 1)\n",
    "rotated_img = cv2.warpAffine(img, M_rotate, (cols, rows))\n",
    "\n",
    "# Shifting\n",
    "M_shift = np.float32([[1, 0, 50], [0, 1, 50]])\n",
    "shifted_img = cv2.warpAffine(img, M_shift, (cols, rows))\n",
    "\n",
    "# Display the images\n",
    "print(\"Original Image:\")\n",
    "cv2_imshow(img)\n",
    "print(\"Scaled Image:\")\n",
    "cv2_imshow(scaled_img)\n",
    "print(\"Rotated Image:\")\n",
    "cv2_imshow(rotated_img)\n",
    "print(\"Shifted Image:\")\n",
    "cv2_imshow(shifted_img)\n",
    "\n",
    "# cv2.waitKey(0) # Not needed with cv2_imshow\n",
    "# cv2.destroyAllWindows() # Not needed with cv2_imshow"
   ]
  },
  {
   "cell_type": "code",
   "execution_count": null,
   "id": "a36966b8",
   "metadata": {},
   "outputs": [],
   "source": []
  }
 ],
 "metadata": {
  "kernelspec": {
   "display_name": "Python 3",
   "language": "python",
   "name": "python3"
  },
  "language_info": {
   "codemirror_mode": {
    "name": "ipython",
    "version": 3
   },
   "file_extension": ".py",
   "mimetype": "text/x-python",
   "name": "python",
   "nbconvert_exporter": "python",
   "pygments_lexer": "ipython3",
   "version": "3.13.5"
  }
 },
 "nbformat": 4,
 "nbformat_minor": 5
}
